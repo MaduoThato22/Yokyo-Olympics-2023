{
 "cells": [
  {
   "cell_type": "code",
   "execution_count": 27,
   "metadata": {},
   "outputs": [],
   "source": [
    "# For data manipulation and analysis\n",
    "import pandas as pd\n",
    "import numpy as np\n",
    "\n",
    "# For Plotting\n",
    "import seaborn as sns\n",
    "import matplotlib.pyplot as plt\n",
    "\n",
    "# For modelling the data\n",
    "from sklearn.cluster import KMeans\n",
    "from sklearn.preprocessing import StandardScaler\n",
    "import matplotlib.pyplot as plt\n"
   ]
  },
  {
   "cell_type": "code",
   "execution_count": 28,
   "metadata": {},
   "outputs": [],
   "source": [
    "# Data ingection\n",
    "df = pd.read_csv('WebserverLogFiles(Maduo).csv')"
   ]
  },
  {
   "cell_type": "markdown",
   "metadata": {},
   "source": [
    "# Data Preparation"
   ]
  },
  {
   "cell_type": "code",
   "execution_count": 29,
   "metadata": {},
   "outputs": [
    {
     "data": {
      "text/html": [
       "<div>\n",
       "<style scoped>\n",
       "    .dataframe tbody tr th:only-of-type {\n",
       "        vertical-align: middle;\n",
       "    }\n",
       "\n",
       "    .dataframe tbody tr th {\n",
       "        vertical-align: top;\n",
       "    }\n",
       "\n",
       "    .dataframe thead th {\n",
       "        text-align: right;\n",
       "    }\n",
       "</style>\n",
       "<table border=\"1\" class=\"dataframe\">\n",
       "  <thead>\n",
       "    <tr style=\"text-align: right;\">\n",
       "      <th></th>\n",
       "      <th>Time of Visit</th>\n",
       "      <th>IP Address</th>\n",
       "      <th>Request_Method</th>\n",
       "      <th>Visited_Pages</th>\n",
       "      <th>Status_Code</th>\n",
       "      <th>Country</th>\n",
       "      <th>Sports</th>\n",
       "      <th>Frequency_of_Visit</th>\n",
       "      <th>Gender</th>\n",
       "      <th>Age</th>\n",
       "    </tr>\n",
       "  </thead>\n",
       "  <tbody>\n",
       "    <tr>\n",
       "      <th>0</th>\n",
       "      <td>15:36:29</td>\n",
       "      <td>89.222.119.77</td>\n",
       "      <td>HEAD</td>\n",
       "      <td>images/games.html</td>\n",
       "      <td>200</td>\n",
       "      <td>Argentina</td>\n",
       "      <td>Volleyball</td>\n",
       "      <td>Once</td>\n",
       "      <td>Male</td>\n",
       "      <td>35</td>\n",
       "    </tr>\n",
       "    <tr>\n",
       "      <th>1</th>\n",
       "      <td>6:20:07</td>\n",
       "      <td>0.44.65.161</td>\n",
       "      <td>GET</td>\n",
       "      <td>Athletics.html</td>\n",
       "      <td>200</td>\n",
       "      <td>China</td>\n",
       "      <td>Table Tennis</td>\n",
       "      <td>Often</td>\n",
       "      <td>Male</td>\n",
       "      <td>36</td>\n",
       "    </tr>\n",
       "    <tr>\n",
       "      <th>2</th>\n",
       "      <td>19:49:19</td>\n",
       "      <td>102.229.109.16</td>\n",
       "      <td>POST</td>\n",
       "      <td>football.html</td>\n",
       "      <td>200</td>\n",
       "      <td>Japan</td>\n",
       "      <td>Volleyball</td>\n",
       "      <td>Seldon</td>\n",
       "      <td>Non-binary</td>\n",
       "      <td>31</td>\n",
       "    </tr>\n",
       "    <tr>\n",
       "      <th>3</th>\n",
       "      <td>2:22:15</td>\n",
       "      <td>186.66.122.127</td>\n",
       "      <td>GET</td>\n",
       "      <td>Aquatics.html</td>\n",
       "      <td>403</td>\n",
       "      <td>Peru</td>\n",
       "      <td>Wrestling</td>\n",
       "      <td>Daily</td>\n",
       "      <td>Female</td>\n",
       "      <td>38</td>\n",
       "    </tr>\n",
       "    <tr>\n",
       "      <th>4</th>\n",
       "      <td>7:24:41</td>\n",
       "      <td>102.115.244.71</td>\n",
       "      <td>CONNECT</td>\n",
       "      <td>images/games.html</td>\n",
       "      <td>301</td>\n",
       "      <td>Cameroon</td>\n",
       "      <td>Weightlifting</td>\n",
       "      <td>Seldon</td>\n",
       "      <td>Male</td>\n",
       "      <td>26</td>\n",
       "    </tr>\n",
       "    <tr>\n",
       "      <th>5</th>\n",
       "      <td>17:02:58</td>\n",
       "      <td>191.49.120.165</td>\n",
       "      <td>POST</td>\n",
       "      <td>Basketball.html</td>\n",
       "      <td>301</td>\n",
       "      <td>Canada</td>\n",
       "      <td>Football</td>\n",
       "      <td>Daily</td>\n",
       "      <td>Male</td>\n",
       "      <td>40</td>\n",
       "    </tr>\n",
       "    <tr>\n",
       "      <th>6</th>\n",
       "      <td>18:47:55</td>\n",
       "      <td>209.51.105.61</td>\n",
       "      <td>PATCH</td>\n",
       "      <td>Wrestling.html</td>\n",
       "      <td>301</td>\n",
       "      <td>Portugal</td>\n",
       "      <td>Shooting</td>\n",
       "      <td>Daily</td>\n",
       "      <td>Female</td>\n",
       "      <td>36</td>\n",
       "    </tr>\n",
       "    <tr>\n",
       "      <th>7</th>\n",
       "      <td>2:21:55</td>\n",
       "      <td>176.155.136.83</td>\n",
       "      <td>PUT</td>\n",
       "      <td>Badminton.html</td>\n",
       "      <td>100</td>\n",
       "      <td>Ukraine</td>\n",
       "      <td>Athletics</td>\n",
       "      <td>Often</td>\n",
       "      <td>Non-binary</td>\n",
       "      <td>22</td>\n",
       "    </tr>\n",
       "    <tr>\n",
       "      <th>8</th>\n",
       "      <td>18:33:25</td>\n",
       "      <td>97.195.34.180</td>\n",
       "      <td>POST</td>\n",
       "      <td>index.html</td>\n",
       "      <td>500</td>\n",
       "      <td>China</td>\n",
       "      <td>Football</td>\n",
       "      <td>Often</td>\n",
       "      <td>Female</td>\n",
       "      <td>23</td>\n",
       "    </tr>\n",
       "    <tr>\n",
       "      <th>9</th>\n",
       "      <td>5:29:16</td>\n",
       "      <td>21.101.219.223</td>\n",
       "      <td>GET</td>\n",
       "      <td>football.html</td>\n",
       "      <td>500</td>\n",
       "      <td>Brazil</td>\n",
       "      <td>Athletics</td>\n",
       "      <td>Daily</td>\n",
       "      <td>Male</td>\n",
       "      <td>32</td>\n",
       "    </tr>\n",
       "    <tr>\n",
       "      <th>10</th>\n",
       "      <td>7:55:17</td>\n",
       "      <td>50.115.125.51</td>\n",
       "      <td>HEAD</td>\n",
       "      <td>images/games.html</td>\n",
       "      <td>100</td>\n",
       "      <td>Sweden</td>\n",
       "      <td>Karate</td>\n",
       "      <td>Seldon</td>\n",
       "      <td>Non-binary</td>\n",
       "      <td>47</td>\n",
       "    </tr>\n",
       "    <tr>\n",
       "      <th>11</th>\n",
       "      <td>11:22:29</td>\n",
       "      <td>122.26.123.173</td>\n",
       "      <td>GET</td>\n",
       "      <td>index.html</td>\n",
       "      <td>403</td>\n",
       "      <td>Ukraine</td>\n",
       "      <td>Karate</td>\n",
       "      <td>Seldon</td>\n",
       "      <td>Female</td>\n",
       "      <td>65</td>\n",
       "    </tr>\n",
       "    <tr>\n",
       "      <th>12</th>\n",
       "      <td>16:11:43</td>\n",
       "      <td>126.151.182.233</td>\n",
       "      <td>PATCH</td>\n",
       "      <td>index.html</td>\n",
       "      <td>200</td>\n",
       "      <td>France</td>\n",
       "      <td>Volleyball</td>\n",
       "      <td>Daily</td>\n",
       "      <td>Non-binary</td>\n",
       "      <td>48</td>\n",
       "    </tr>\n",
       "    <tr>\n",
       "      <th>13</th>\n",
       "      <td>0:42:39</td>\n",
       "      <td>93.138.130.68</td>\n",
       "      <td>HEAD</td>\n",
       "      <td>Basketball.html</td>\n",
       "      <td>200</td>\n",
       "      <td>Serbia</td>\n",
       "      <td>Badminton</td>\n",
       "      <td>Once</td>\n",
       "      <td>Female</td>\n",
       "      <td>40</td>\n",
       "    </tr>\n",
       "    <tr>\n",
       "      <th>14</th>\n",
       "      <td>7:00:31</td>\n",
       "      <td>143.233.30.7</td>\n",
       "      <td>HEAD</td>\n",
       "      <td>index.html</td>\n",
       "      <td>200</td>\n",
       "      <td>Indonesia</td>\n",
       "      <td>Athletics</td>\n",
       "      <td>Often</td>\n",
       "      <td>Male</td>\n",
       "      <td>49</td>\n",
       "    </tr>\n",
       "  </tbody>\n",
       "</table>\n",
       "</div>"
      ],
      "text/plain": [
       "   Time of Visit       IP Address Request_Method      Visited_Pages  \\\n",
       "0       15:36:29    89.222.119.77           HEAD  images/games.html   \n",
       "1        6:20:07      0.44.65.161            GET     Athletics.html   \n",
       "2       19:49:19   102.229.109.16           POST      football.html   \n",
       "3        2:22:15   186.66.122.127            GET      Aquatics.html   \n",
       "4        7:24:41   102.115.244.71        CONNECT  images/games.html   \n",
       "5       17:02:58   191.49.120.165           POST    Basketball.html   \n",
       "6       18:47:55    209.51.105.61          PATCH     Wrestling.html   \n",
       "7        2:21:55   176.155.136.83            PUT     Badminton.html   \n",
       "8       18:33:25    97.195.34.180           POST         index.html   \n",
       "9        5:29:16   21.101.219.223            GET      football.html   \n",
       "10       7:55:17    50.115.125.51           HEAD  images/games.html   \n",
       "11      11:22:29   122.26.123.173            GET         index.html   \n",
       "12      16:11:43  126.151.182.233          PATCH         index.html   \n",
       "13       0:42:39    93.138.130.68           HEAD    Basketball.html   \n",
       "14       7:00:31     143.233.30.7           HEAD         index.html   \n",
       "\n",
       "    Status_Code    Country         Sports Frequency_of_Visit      Gender  Age  \n",
       "0           200  Argentina     Volleyball               Once        Male   35  \n",
       "1           200      China   Table Tennis              Often        Male   36  \n",
       "2           200      Japan     Volleyball             Seldon  Non-binary   31  \n",
       "3           403       Peru      Wrestling              Daily      Female   38  \n",
       "4           301   Cameroon  Weightlifting             Seldon        Male   26  \n",
       "5           301     Canada       Football              Daily        Male   40  \n",
       "6           301   Portugal       Shooting              Daily      Female   36  \n",
       "7           100    Ukraine      Athletics              Often  Non-binary   22  \n",
       "8           500      China       Football              Often      Female   23  \n",
       "9           500     Brazil      Athletics              Daily        Male   32  \n",
       "10          100     Sweden         Karate             Seldon  Non-binary   47  \n",
       "11          403    Ukraine         Karate             Seldon      Female   65  \n",
       "12          200     France     Volleyball              Daily  Non-binary   48  \n",
       "13          200     Serbia      Badminton               Once      Female   40  \n",
       "14          200  Indonesia      Athletics              Often        Male   49  "
      ]
     },
     "execution_count": 29,
     "metadata": {},
     "output_type": "execute_result"
    }
   ],
   "source": [
    "# Dataframe check\n",
    "df.head(15)"
   ]
  },
  {
   "cell_type": "code",
   "execution_count": 30,
   "metadata": {},
   "outputs": [
    {
     "name": "stdout",
     "output_type": "stream",
     "text": [
      "<class 'pandas.core.frame.DataFrame'>\n",
      "RangeIndex: 20922 entries, 0 to 20921\n",
      "Data columns (total 10 columns):\n",
      " #   Column              Non-Null Count  Dtype \n",
      "---  ------              --------------  ----- \n",
      " 0   Time of Visit       20922 non-null  object\n",
      " 1   IP Address          20922 non-null  object\n",
      " 2   Request_Method      20922 non-null  object\n",
      " 3   Visited_Pages       20922 non-null  object\n",
      " 4   Status_Code         20922 non-null  int64 \n",
      " 5   Country             20922 non-null  object\n",
      " 6   Sports              20922 non-null  object\n",
      " 7   Frequency_of_Visit  20922 non-null  object\n",
      " 8   Gender              20922 non-null  object\n",
      " 9   Age                 20922 non-null  int64 \n",
      "dtypes: int64(2), object(8)\n",
      "memory usage: 1.6+ MB\n"
     ]
    }
   ],
   "source": [
    "df.info()"
   ]
  },
  {
   "cell_type": "code",
   "execution_count": 31,
   "metadata": {},
   "outputs": [
    {
     "data": {
      "text/html": [
       "<div>\n",
       "<style scoped>\n",
       "    .dataframe tbody tr th:only-of-type {\n",
       "        vertical-align: middle;\n",
       "    }\n",
       "\n",
       "    .dataframe tbody tr th {\n",
       "        vertical-align: top;\n",
       "    }\n",
       "\n",
       "    .dataframe thead th {\n",
       "        text-align: right;\n",
       "    }\n",
       "</style>\n",
       "<table border=\"1\" class=\"dataframe\">\n",
       "  <thead>\n",
       "    <tr style=\"text-align: right;\">\n",
       "      <th></th>\n",
       "      <th>Status_Code</th>\n",
       "      <th>Age</th>\n",
       "    </tr>\n",
       "  </thead>\n",
       "  <tbody>\n",
       "    <tr>\n",
       "      <th>count</th>\n",
       "      <td>20922.000000</td>\n",
       "      <td>20922.000000</td>\n",
       "    </tr>\n",
       "    <tr>\n",
       "      <th>mean</th>\n",
       "      <td>213.086416</td>\n",
       "      <td>44.059794</td>\n",
       "    </tr>\n",
       "    <tr>\n",
       "      <th>std</th>\n",
       "      <td>82.265376</td>\n",
       "      <td>15.313455</td>\n",
       "    </tr>\n",
       "    <tr>\n",
       "      <th>min</th>\n",
       "      <td>100.000000</td>\n",
       "      <td>18.000000</td>\n",
       "    </tr>\n",
       "    <tr>\n",
       "      <th>25%</th>\n",
       "      <td>200.000000</td>\n",
       "      <td>31.000000</td>\n",
       "    </tr>\n",
       "    <tr>\n",
       "      <th>50%</th>\n",
       "      <td>200.000000</td>\n",
       "      <td>44.000000</td>\n",
       "    </tr>\n",
       "    <tr>\n",
       "      <th>75%</th>\n",
       "      <td>200.000000</td>\n",
       "      <td>57.000000</td>\n",
       "    </tr>\n",
       "    <tr>\n",
       "      <th>max</th>\n",
       "      <td>500.000000</td>\n",
       "      <td>70.000000</td>\n",
       "    </tr>\n",
       "  </tbody>\n",
       "</table>\n",
       "</div>"
      ],
      "text/plain": [
       "        Status_Code           Age\n",
       "count  20922.000000  20922.000000\n",
       "mean     213.086416     44.059794\n",
       "std       82.265376     15.313455\n",
       "min      100.000000     18.000000\n",
       "25%      200.000000     31.000000\n",
       "50%      200.000000     44.000000\n",
       "75%      200.000000     57.000000\n",
       "max      500.000000     70.000000"
      ]
     },
     "execution_count": 31,
     "metadata": {},
     "output_type": "execute_result"
    }
   ],
   "source": [
    "df.describe()"
   ]
  },
  {
   "cell_type": "code",
   "execution_count": 32,
   "metadata": {},
   "outputs": [
    {
     "data": {
      "text/plain": [
       "(20922, 10)"
      ]
     },
     "execution_count": 32,
     "metadata": {},
     "output_type": "execute_result"
    }
   ],
   "source": [
    "# Shape of the dataset\n",
    "df.shape"
   ]
  },
  {
   "cell_type": "code",
   "execution_count": 34,
   "metadata": {},
   "outputs": [
    {
     "name": "stdout",
     "output_type": "stream",
     "text": [
      "Time of Visit         0\n",
      "IP Address            0\n",
      "Request_Method        0\n",
      "Visited_Pages         0\n",
      "Status_Code           0\n",
      "Country               0\n",
      "Sports                0\n",
      "Frequency_of_Visit    0\n",
      "Gender                0\n",
      "Age                   0\n",
      "dtype: int64\n"
     ]
    }
   ],
   "source": [
    "# Checking of the missing values\n",
    "null_counts = df.isnull().sum()\n",
    "print(null_counts)"
   ]
  },
  {
   "cell_type": "code",
   "execution_count": 35,
   "metadata": {},
   "outputs": [],
   "source": [
    "# Exploratory Data Analysis"
   ]
  },
  {
   "cell_type": "code",
   "execution_count": 36,
   "metadata": {},
   "outputs": [
    {
     "data": {
      "image/png": "[encoded data removed]",
      "text/plain": [
       "<Figure size 720x720 with 1 Axes>"
      ]
     },
     "metadata": {},
     "output_type": "display_data"
    }
   ],
   "source": [
    "# Pie chart showing Gender\n",
    "colors = ['#1874CD', '#FF8C00', '#BF3EFF']\n",
    "Piechart= df['Gender'].value_counts(ascending=False).plot.pie(colors=colors,autopct='%1.1f%%',figsize=(10, 10))\n",
    "plt.show()"
   ]
  },
  {
   "cell_type": "code",
   "execution_count": 37,
   "metadata": {},
   "outputs": [
    {
     "data": {
      "image/png": "[encoded data removed]",
      "text/plain": [
       "<Figure size 720x432 with 1 Axes>"
      ]
     },
     "metadata": {
      "needs_background": "light"
     },
     "output_type": "display_data"
    }
   ],
   "source": [
    "# Histogram showing request methods by number of visits\n",
    "\n",
    "plt.figure(figsize=(10,6))\n",
    "sns.histplot(x='Request_Method', data=df)\n",
    "plt.title('Request_Methods by Number of visits')\n",
    "plt.xlabel('Request_Methods')\n",
    "plt.ylabel('Number of visits')\n",
    "plt.show()"
   ]
  },
  {
   "cell_type": "code",
   "execution_count": 38,
   "metadata": {},
   "outputs": [
    {
     "data": {
      "image/png": "[encoded data removed]",
      "text/plain": [
       "<Figure size 720x576 with 1 Axes>"
      ]
     },
     "metadata": {
      "needs_background": "light"
     },
     "output_type": "display_data"
    }
   ],
   "source": [
    "# Line graph showing Frequency of visit against Time \n",
    "Frequency = df.groupby('Frequency_of_Visit')['Time of Visit'].count().reset_index()\n",
    "plt.figure(figsize=(10,8))\n",
    "sns.lineplot(x='Frequency_of_Visit', y='Time of Visit', data=Frequency)\n",
    "plt.title('Frequency of visit against Time')\n",
    "plt.xlabel('Frequency_of_Visit')\n",
    "plt.ylabel('Time')\n",
    "plt.show()"
   ]
  },
  {
   "cell_type": "code",
   "execution_count": 39,
   "metadata": {},
   "outputs": [
    {
     "data": {
      "image/png": "[encoded data removed]",
      "text/plain": [
       "<Figure size 1440x576 with 1 Axes>"
      ]
     },
     "metadata": {
      "needs_background": "light"
     },
     "output_type": "display_data"
    }
   ],
   "source": [
    "# bar graph showing top 10 by Frequency_of_Visit\n",
    "Country_Visits = df.groupby('Country')['Frequency_of_Visit'].count().reset_index()\n",
    "plt.figure(figsize=(20,8))\n",
    "sns.barplot(x='Country', y='Frequency_of_Visit', data=Country_Visits[:10], palette='deep')\n",
    "plt.title('Visitors per Country ')\n",
    "plt.xlabel('Country')\n",
    "plt.ylabel('Frequency_of_Visit')\n",
    "plt.show()"
   ]
  },
  {
   "cell_type": "markdown",
   "metadata": {},
   "source": [
    "# User segmentation"
   ]
  },
  {
   "cell_type": "code",
   "execution_count": 40,
   "metadata": {},
   "outputs": [
    {
     "name": "stdout",
     "output_type": "stream",
     "text": [
      "User Segmentation by Country:\n",
      "                      Country  User Count\n",
      "40                      China        3956\n",
      "88                  Indonesia        2199\n",
      "165                    Russia        1235\n",
      "156               Philippines        1071\n",
      "27                     Brazil         805\n",
      "..                        ...         ...\n",
      "204  Turks and Caicos Islands           1\n",
      "170              Saint Martin           1\n",
      "202                    Turkey           1\n",
      "157                  Pitcairn           1\n",
      "198                   Tokelau           1\n",
      "\n",
      "[220 rows x 2 columns]\n"
     ]
    }
   ],
   "source": [
    "# User Segmentation by Country\n",
    "country_segmentation = df.groupby('Country').size().reset_index(name='User Count')\n",
    "country_segmentation = country_segmentation.sort_values(by='User Count', ascending=False)\n",
    "print(\"User Segmentation by Country:\")\n",
    "print(country_segmentation)"
   ]
  },
  {
   "cell_type": "code",
   "execution_count": 41,
   "metadata": {},
   "outputs": [
    {
     "name": "stdout",
     "output_type": "stream",
     "text": [
      "\n",
      "User Segmentation by Gender and Age:\n",
      "         Gender  Age  User Count\n",
      "58         Male   23         232\n",
      "79         Male   44         226\n",
      "59         Male   24         226\n",
      "92         Male   57         222\n",
      "80         Male   45         220\n",
      "..          ...  ...         ...\n",
      "129  Non-binary   41          59\n",
      "158  Non-binary   70          59\n",
      "112  Non-binary   24          57\n",
      "152  Non-binary   64          56\n",
      "121  Non-binary   33          43\n",
      "\n",
      "[159 rows x 3 columns]\n"
     ]
    }
   ],
   "source": [
    "# User Segmentation by Gender and Age\n",
    "gender_age_segmentation = df.groupby(['Gender', 'Age']).size().reset_index(name='User Count')\n",
    "gender_age_segmentation = gender_age_segmentation.sort_values(by=['User Count'], ascending=False)\n",
    "print(\"\\nUser Segmentation by Gender and Age:\")\n",
    "print(gender_age_segmentation)"
   ]
  },
  {
   "cell_type": "markdown",
   "metadata": {},
   "source": [
    "# ClickStream Analysis"
   ]
  },
  {
   "cell_type": "code",
   "execution_count": 42,
   "metadata": {
    "scrolled": true
   },
   "outputs": [
    {
     "name": "stdout",
     "output_type": "stream",
     "text": [
      "Click Paths Analysis:\n",
      "                         Click Path  Frequency\n",
      "0                        index.html       2852\n",
      "1                    Athletics.html       2773\n",
      "2                 images/games.html       2661\n",
      "3                 searchsports.html       2288\n",
      "4                       Tennis.html       1891\n",
      "5                     football.html       1735\n",
      "6                    ticketing.html       1248\n",
      "7                   Gymnastics.html       1211\n",
      "8                   Basketball.html       1026\n",
      "9                         news.html        870\n",
      "10                   Badminton.html        563\n",
      "11                    Aquatics.html        555\n",
      "12                   Wrestling.html        474\n",
      "13                  Volleyball.html        385\n",
      "14           Baseball/Softball.html        159\n",
      "15                      Boxing.html        116\n",
      "16                     Fencing.html         79\n",
      "17                      Karate.html         30\n",
      "18  Badminton.html > Badminton.html          1\n",
      "19    football.html > football.html          1\n",
      "20        Tennis.html > Tennis.html          1\n"
     ]
    }
   ],
   "source": [
    "# Click Paths Analysis\n",
    "click_paths = df.groupby('IP Address')['Visited_Pages'].apply(lambda x: ' > '.join(x)).reset_index(name='Click Path')\n",
    "click_paths_count = click_paths['Click Path'].value_counts().reset_index()\n",
    "click_paths_count.columns = ['Click Path', 'Frequency']\n",
    "click_paths_count = click_paths_count.sort_values(by='Frequency', ascending=False)\n",
    "print(\"Click Paths Analysis:\")\n",
    "print(click_paths_count)"
   ]
  },
  {
   "cell_type": "markdown",
   "metadata": {},
   "source": [
    "# Modelling the Data with Clustering"
   ]
  },
  {
   "cell_type": "code",
   "execution_count": 43,
   "metadata": {},
   "outputs": [],
   "source": [
    "# Select the features for clustering\n",
    "features = ['Status_Code', 'Age']\n",
    "X = df[features]"
   ]
  },
  {
   "cell_type": "code",
   "execution_count": 44,
   "metadata": {},
   "outputs": [],
   "source": [
    "# Standardize the features\n",
    "scaler = StandardScaler()\n",
    "X_std = scaler.fit_transform(X)"
   ]
  },
  {
   "cell_type": "code",
   "execution_count": 45,
   "metadata": {},
   "outputs": [],
   "source": [
    "# Determine the optimal number of clusters using the elbow method\n",
    "sse = []\n",
    "for k in range(1, 11):\n",
    "    kmeans = KMeans(n_clusters=k, random_state=42)\n",
    "    kmeans.fit(X_std)\n",
    "    sse.append(kmeans.inertia_)"
   ]
  },
  {
   "cell_type": "code",
   "execution_count": 46,
   "metadata": {},
   "outputs": [
    {
     "data": {
      "image/png": "[encoded data removed]",
      "text/plain": [
       "<Figure size 1080x576 with 1 Axes>"
      ]
     },
     "metadata": {
      "needs_background": "light"
     },
     "output_type": "display_data"
    }
   ],
   "source": [
    "# Plot the elbow curve\n",
    "plt.figure(figsize=(15,8))\n",
    "plt.plot(range(1, 11), sse, marker='x')\n",
    "plt.xlabel('Number of Clusters')\n",
    "plt.ylabel('SSE')\n",
    "plt.title('Elbow Curve')\n",
    "plt.show()"
   ]
  },
  {
   "cell_type": "code",
   "execution_count": 47,
   "metadata": {},
   "outputs": [
    {
     "data": {
      "text/plain": [
       "KMeans(n_clusters=3, random_state=42)"
      ]
     },
     "execution_count": 47,
     "metadata": {},
     "output_type": "execute_result"
    }
   ],
   "source": [
    "# Perform clustering with the optimal number of clusters\n",
    "kmeans = KMeans(n_clusters=3, random_state=42)\n",
    "kmeans.fit(X_std)"
   ]
  },
  {
   "cell_type": "code",
   "execution_count": 48,
   "metadata": {},
   "outputs": [],
   "source": [
    "# Assign cluster labels to the data\n",
    "cluster_labels = kmeans.labels_"
   ]
  },
  {
   "cell_type": "code",
   "execution_count": 49,
   "metadata": {},
   "outputs": [],
   "source": [
    "# Add cluster labels to the DataFrame\n",
    "df['Cluster'] = cluster_labels"
   ]
  },
  {
   "cell_type": "code",
   "execution_count": 50,
   "metadata": {},
   "outputs": [
    {
     "name": "stdout",
     "output_type": "stream",
     "text": [
      "0    8790\n",
      "1    8615\n",
      "2    3517\n",
      "Name: Cluster, dtype: int64\n"
     ]
    }
   ],
   "source": [
    "# Analyze the clusters\n",
    "cluster_counts = df['Cluster'].value_counts()\n",
    "print(cluster_counts)"
   ]
  },
  {
   "cell_type": "code",
   "execution_count": 51,
   "metadata": {
    "scrolled": true
   },
   "outputs": [
    {
     "data": {
      "image/png": "[encoded data removed]",
      "text/plain": [
       "<Figure size 1008x432 with 1 Axes>"
      ]
     },
     "metadata": {
      "needs_background": "light"
     },
     "output_type": "display_data"
    }
   ],
   "source": [
    "# Create a scatter plot of the data with different colors for each cluster\n",
    "plt.figure(figsize=(14,6))\n",
    "plt.scatter(X_std[:,0], X_std[:,1], c=kmeans.labels_)\n",
    "plt.title('K-Means Clustering')\n",
    "plt.xlabel('PCA Component 1')\n",
    "plt.ylabel('PCA Component 2')\n",
    "plt.show()"
   ]
  },
  {
   "cell_type": "code",
   "execution_count": 2,
   "metadata": {},
   "outputs": [
    {
     "data": {
      "text/html": [
       "\n",
       "        <iframe\n",
       "            width=\"1000\"\n",
       "            height=\"700\"\n",
       "            src=\"https://app.powerbi.com/view?r=eyJrIjoiYThiZGMxMjktMzk2Yy00MWIyLWI2MTctMmRmYjYxYTE4NDBlIiwidCI6ImVlMjkyOTc3LTdiNTgtNGRmNC04MTM4LTUwZDBkZTdkMjhkOCIsImMiOjh9\"\n",
       "            frameborder=\"0\"\n",
       "            allowfullscreen\n",
       "        ></iframe>\n",
       "        "
      ],
      "text/plain": [
       "<IPython.lib.display.IFrame at 0x27780b08ac0>"
      ]
     },
     "metadata": {},
     "output_type": "display_data"
    }
   ],
   "source": [
    "from IPython.display import IFrame\n",
    "Dashboard = IFrame(src=\"https://app.powerbi.com/view?r=eyJrIjoiYThiZGMxMjktMzk2Yy00MWIyLWI2MTctMmRmYjYxYTE4NDBlIiwidCI6ImVlMjkyOTc3LTdiNTgtNGRmNC04MTM4LTUwZDBkZTdkMjhkOCIsImMiOjh9\", height = 700, width = 1000)\n",
    "display(Dashboard)"
   ]
  },
  {
   "cell_type": "code",
   "execution_count": null,
   "metadata": {},
   "outputs": [],
   "source": []
  },
  {
   "cell_type": "code",
   "execution_count": null,
   "metadata": {},
   "outputs": [],
   "source": []
  }
 ],
 "metadata": {
  "kernelspec": {
   "display_name": "Python 3",
   "language": "python",
   "name": "python3"
  },
  "language_info": {
   "codemirror_mode": {
    "name": "ipython",
    "version": 3
   },
   "file_extension": ".py",
   "mimetype": "text/x-python",
   "name": "python",
   "nbconvert_exporter": "python",
   "pygments_lexer": "ipython3",
   "version": "3.8.5"
  }
 },
 "nbformat": 4,
 "nbformat_minor": 4
}
